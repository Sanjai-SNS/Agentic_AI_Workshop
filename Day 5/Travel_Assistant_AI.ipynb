{
  "cells": [
    {
      "cell_type": "code",
      "execution_count": null,
      "id": "fee0ec5f",
      "metadata": {
        "id": "fee0ec5f"
      },
      "outputs": [],
      "source": [
        "!pip install -q duckduckgo-search google-generativeai requests"
      ]
    },
    {
      "cell_type": "code",
      "execution_count": null,
      "id": "4e1e2265",
      "metadata": {
        "id": "4e1e2265"
      },
      "outputs": [],
      "source": [
        "import requests\n",
        "import getpass\n",
        "from duckduckgo_search import DDGS\n",
        "import google.generativeai as genai"
      ]
    },
    {
      "cell_type": "code",
      "execution_count": null,
      "id": "6eb219cc",
      "metadata": {
        "colab": {
          "base_uri": "https://localhost:8080/"
        },
        "id": "6eb219cc",
        "outputId": "989ac338-fc73-4399-815f-fa599aa277dd"
      },
      "outputs": [
        {
          "name": "stdout",
          "output_type": "stream",
          "text": [
            "Enter your Gemini API key: ··········\n",
            "Enter your WeatherAPI key: ··········\n"
          ]
        }
      ],
      "source": [
        "gemini_api_key = getpass.getpass(\"Enter your Gemini API key: \")\n",
        "weather_api_key = getpass.getpass(\"Enter your WeatherAPI key: \")"
      ]
    },
    {
      "cell_type": "code",
      "execution_count": null,
      "id": "9d1204bb",
      "metadata": {
        "id": "9d1204bb"
      },
      "outputs": [],
      "source": [
        "def get_weather_forecast(city: str) -> str:\n",
        "    url = f\"http://api.weatherapi.com/v1/current.json?key={weather_api_key}&q={city}&aqi=no\"\n",
        "    response = requests.get(url)\n",
        "    data = response.json()\n",
        "    if \"current\" in data:\n",
        "        return (f\"The current temperature in {city} is {data['current']['temp_c']}°C, \"\n",
        "                f\"condition: {data['current']['condition']['text']}.\")\n",
        "    else:\n",
        "        return \"Weather data not found for this location.\""
      ]
    },
    {
      "cell_type": "code",
      "execution_count": null,
      "id": "b9637317",
      "metadata": {
        "id": "b9637317"
      },
      "outputs": [],
      "source": [
        "def get_top_attractions(city: str) -> str:\n",
        "    with DDGS() as ddgs:\n",
        "        results = ddgs.text(f\"top tourist attractions in {city}\", max_results=5)\n",
        "        places = [r[\"title\"] for r in results]\n",
        "    return f\"Top attractions in {city}:\\n\" + \"\\n\".join(f\"- {p}\" for p in places)"
      ]
    },
    {
      "cell_type": "code",
      "execution_count": null,
      "id": "8ddcd0a8",
      "metadata": {
        "colab": {
          "base_uri": "https://localhost:8080/"
        },
        "id": "8ddcd0a8",
        "outputId": "33588197-322a-4983-f75b-b80086f7febd"
      },
      "outputs": [
        {
          "output_type": "stream",
          "name": "stdout",
          "text": [
            "Enter a city or travel destination: Coimbatore\n",
            "🔍 Travel info gathered:\n",
            "\n",
            "The current temperature in Coimbatore is 28.2°C, condition: Light rain.\n",
            "\n",
            "Top attractions in Coimbatore:\n",
            "- THE 30 BEST Places to Visit in Coimbatore (2025) - Tripadvisor\n",
            "- 27 Best Places to visit in Coimbatore | Top Tourist Attractions | 2025\n",
            "- Must Visit Tourist Places in Coimbatore: Top 25 Tourist Attractions\n",
            "- 25 Places to Visit in Coimbatore, Tourist Places & Attractions\n",
            "- 25 Places to Visit in Coimbatore in 2025 | Top Tourist Attractions & Places\n"
          ]
        }
      ],
      "source": [
        "destination = input(\"Enter a city or travel destination: \")\n",
        "weather_info = get_weather_forecast(destination)\n",
        "attractions_info = get_top_attractions(destination)\n",
        "combined_info = f\"{weather_info}\\n\\n{attractions_info}\"\n",
        "print(\"🔍 Travel info gathered:\\n\")\n",
        "print(combined_info)"
      ]
    }
  ],
  "metadata": {
    "colab": {
      "provenance": []
    },
    "language_info": {
      "name": "python"
    },
    "kernelspec": {
      "name": "python3",
      "display_name": "Python 3"
    }
  },
  "nbformat": 4,
  "nbformat_minor": 5
}